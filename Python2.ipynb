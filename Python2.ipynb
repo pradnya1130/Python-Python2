{
 "cells": [
  {
   "cell_type": "code",
   "execution_count": 1,
   "id": "49a34306-1573-449b-839f-8fa1ab3736f3",
   "metadata": {},
   "outputs": [],
   "source": [
    "c=2+5j\n"
   ]
  },
  {
   "cell_type": "code",
   "execution_count": 2,
   "id": "fc14a223-efe2-460c-bb0d-e28717850a14",
   "metadata": {},
   "outputs": [
    {
     "data": {
      "text/plain": [
       "complex"
      ]
     },
     "execution_count": 2,
     "metadata": {},
     "output_type": "execute_result"
    }
   ],
   "source": [
    "type(c)"
   ]
  },
  {
   "cell_type": "code",
   "execution_count": 3,
   "id": "21225871-9dbb-4bf7-b29f-de4adf1c6d8b",
   "metadata": {},
   "outputs": [],
   "source": [
    "a='Ram is hero'"
   ]
  },
  {
   "cell_type": "code",
   "execution_count": 4,
   "id": "8a2afb6e-ac78-468a-a963-560a8294536a",
   "metadata": {},
   "outputs": [
    {
     "data": {
      "text/plain": [
       "str"
      ]
     },
     "execution_count": 4,
     "metadata": {},
     "output_type": "execute_result"
    }
   ],
   "source": [
    "type(a)"
   ]
  },
  {
   "cell_type": "code",
   "execution_count": 7,
   "id": "8e779501-df1e-401c-9708-45ecab39fce0",
   "metadata": {},
   "outputs": [],
   "source": [
    "str1='python'\n",
    "str2='is a powerful '\n",
    "str3='language'"
   ]
  },
  {
   "cell_type": "code",
   "execution_count": 8,
   "id": "39fd5c7a-f70d-467d-a50a-96f710041988",
   "metadata": {},
   "outputs": [
    {
     "name": "stdout",
     "output_type": "stream",
     "text": [
      "pythonis a powerful language\n"
     ]
    }
   ],
   "source": [
    "print(str1+str2+str3)"
   ]
  },
  {
   "cell_type": "code",
   "execution_count": 9,
   "id": "fb8019f3-891e-4e3f-a61a-bdeeed2d692f",
   "metadata": {},
   "outputs": [
    {
     "name": "stdout",
     "output_type": "stream",
     "text": [
      "saurav is ex  mining engineer\n"
     ]
    }
   ],
   "source": [
    "print(\"saurav\"+\" is ex\",\" mining engineer\")"
   ]
  },
  {
   "cell_type": "code",
   "execution_count": 10,
   "id": "473bafa0-4f01-4a03-886a-ff70b014c26c",
   "metadata": {},
   "outputs": [
    {
     "name": "stdout",
     "output_type": "stream",
     "text": [
      " Day Day Day Day Day\n"
     ]
    }
   ],
   "source": [
    "print(' Day' * 5)"
   ]
  },
  {
   "cell_type": "code",
   "execution_count": 11,
   "id": "e2b681fb-273a-494b-8ae7-15d4506bf5db",
   "metadata": {},
   "outputs": [
    {
     "name": "stdout",
     "output_type": "stream",
     "text": [
      " = = = = = = = = = = = = = = = = = = = = = = = = = = = = = = = = = = = = = = = = = = = = = = = = = = = = = = = = = = = = = = = = = = = = = = = = = = = = = = = = = = = = = = = = = = = = = = = = = = = =\n"
     ]
    }
   ],
   "source": [
    "print(' ='* 100)"
   ]
  },
  {
   "cell_type": "code",
   "execution_count": 13,
   "id": "5be19a45-db6c-4e7f-8150-483b62fd2a21",
   "metadata": {},
   "outputs": [
    {
     "name": "stdout",
     "output_type": "stream",
     "text": [
      "Day5\n"
     ]
    }
   ],
   "source": [
    "print('Day' + str(5))"
   ]
  },
  {
   "cell_type": "code",
   "execution_count": 14,
   "id": "b7b0ce53-73c1-4484-8862-70bd32cbb15f",
   "metadata": {},
   "outputs": [],
   "source": [
    "lst=[]"
   ]
  },
  {
   "cell_type": "code",
   "execution_count": 15,
   "id": "29854691-94a8-4303-9da7-dec3c203de01",
   "metadata": {},
   "outputs": [
    {
     "data": {
      "text/plain": [
       "[]"
      ]
     },
     "execution_count": 15,
     "metadata": {},
     "output_type": "execute_result"
    }
   ],
   "source": [
    "lst"
   ]
  },
  {
   "cell_type": "code",
   "execution_count": 16,
   "id": "1e9039b3-d72d-4df5-8676-e280e976092e",
   "metadata": {},
   "outputs": [
    {
     "data": {
      "text/plain": [
       "list"
      ]
     },
     "execution_count": 16,
     "metadata": {},
     "output_type": "execute_result"
    }
   ],
   "source": [
    "\n",
    "type(lst)"
   ]
  },
  {
   "cell_type": "code",
   "execution_count": 17,
   "id": "8d2feb37-3552-4032-9280-55cc46726385",
   "metadata": {},
   "outputs": [],
   "source": [
    "lst=['a','b','c','d']"
   ]
  },
  {
   "cell_type": "code",
   "execution_count": 18,
   "id": "66d343d2-e830-42a0-bc81-f268a65e3c79",
   "metadata": {},
   "outputs": [
    {
     "data": {
      "text/plain": [
       "['a', 'b', 'c', 'd']"
      ]
     },
     "execution_count": 18,
     "metadata": {},
     "output_type": "execute_result"
    }
   ],
   "source": [
    "lst"
   ]
  },
  {
   "cell_type": "code",
   "execution_count": 22,
   "id": "5de81385-0c91-4ad6-b222-e6195b5c3907",
   "metadata": {},
   "outputs": [],
   "source": [
    "l2=list(lst)"
   ]
  },
  {
   "cell_type": "code",
   "execution_count": 23,
   "id": "22fd3b9f-653e-4f02-bf57-cb017110392c",
   "metadata": {},
   "outputs": [
    {
     "data": {
      "text/plain": [
       "['a', 'b', 'c', 'd']"
      ]
     },
     "execution_count": 23,
     "metadata": {},
     "output_type": "execute_result"
    }
   ],
   "source": [
    "l2"
   ]
  },
  {
   "cell_type": "code",
   "execution_count": 24,
   "id": "ffee578a-2f66-4831-b0ce-4b288095c356",
   "metadata": {},
   "outputs": [],
   "source": [
    "marks=[30,40,50,60]"
   ]
  },
  {
   "cell_type": "code",
   "execution_count": 25,
   "id": "b531eaa1-ea28-4e7a-8b23-892fdb6bc200",
   "metadata": {},
   "outputs": [],
   "source": [
    "copy_marks=marks.copy()"
   ]
  },
  {
   "cell_type": "code",
   "execution_count": 26,
   "id": "8dcddc76-5f73-478a-bf8f-f467ca155307",
   "metadata": {},
   "outputs": [
    {
     "data": {
      "text/plain": [
       "[30, 40, 50, 60]"
      ]
     },
     "execution_count": 26,
     "metadata": {},
     "output_type": "execute_result"
    }
   ],
   "source": [
    "copy_marks\n"
   ]
  },
  {
   "cell_type": "code",
   "execution_count": 27,
   "id": "8dd29c07-39ff-4707-beee-7565a10359dc",
   "metadata": {},
   "outputs": [],
   "source": [
    "l1=[]"
   ]
  },
  {
   "cell_type": "code",
   "execution_count": 28,
   "id": "d2f7f6cd-ac33-43e3-af9a-10d84d2f6a52",
   "metadata": {},
   "outputs": [],
   "source": [
    "l1.append('saurav')"
   ]
  },
  {
   "cell_type": "code",
   "execution_count": 29,
   "id": "3cfe0c75-3af6-48fe-a482-b2644b5a2b28",
   "metadata": {},
   "outputs": [
    {
     "data": {
      "text/plain": [
       "['saurav']"
      ]
     },
     "execution_count": 29,
     "metadata": {},
     "output_type": "execute_result"
    }
   ],
   "source": [
    "l1"
   ]
  },
  {
   "cell_type": "code",
   "execution_count": 30,
   "id": "545bb4aa-995e-48fb-9bde-75616ccedf09",
   "metadata": {},
   "outputs": [],
   "source": [
    "l1.append('vicky')"
   ]
  },
  {
   "cell_type": "code",
   "execution_count": 31,
   "id": "05642a92-a97d-4e04-b73b-ade84a36825c",
   "metadata": {},
   "outputs": [
    {
     "data": {
      "text/plain": [
       "['saurav', 'vicky']"
      ]
     },
     "execution_count": 31,
     "metadata": {},
     "output_type": "execute_result"
    }
   ],
   "source": [
    "l1"
   ]
  },
  {
   "cell_type": "code",
   "execution_count": 32,
   "id": "a26fadbc-841d-4378-934a-954ba553a0e1",
   "metadata": {},
   "outputs": [],
   "source": [
    "l1.append('yashu')\n",
    "l1.append('shivangi')"
   ]
  },
  {
   "cell_type": "code",
   "execution_count": 33,
   "id": "3bf62946-3508-428e-a109-e02d4b31b5c3",
   "metadata": {},
   "outputs": [
    {
     "data": {
      "text/plain": [
       "['saurav', 'vicky', 'yashu', 'shivangi']"
      ]
     },
     "execution_count": 33,
     "metadata": {},
     "output_type": "execute_result"
    }
   ],
   "source": [
    "l1"
   ]
  },
  {
   "cell_type": "code",
   "execution_count": 34,
   "id": "d54f6eea-5fa6-4e51-80b3-5a0917de67e8",
   "metadata": {},
   "outputs": [],
   "source": [
    "l1=['saurav','vicky','minakshi','Donald Trump','Imran khan']"
   ]
  },
  {
   "cell_type": "code",
   "execution_count": 35,
   "id": "138005fc-a993-44fd-9d9d-b5c9d63bc2cf",
   "metadata": {},
   "outputs": [
    {
     "data": {
      "text/plain": [
       "['saurav', 'vicky', 'minakshi', 'Donald Trump', 'Imran khan']"
      ]
     },
     "execution_count": 35,
     "metadata": {},
     "output_type": "execute_result"
    }
   ],
   "source": [
    "l1"
   ]
  },
  {
   "cell_type": "code",
   "execution_count": 36,
   "id": "f3aec860-f6b3-4dd6-93d9-8de72b684140",
   "metadata": {},
   "outputs": [],
   "source": [
    "l1.insert(4,'putin')"
   ]
  },
  {
   "cell_type": "code",
   "execution_count": 37,
   "id": "777c209b-0703-4e80-bab7-ef692dff75b6",
   "metadata": {},
   "outputs": [
    {
     "data": {
      "text/plain": [
       "['saurav', 'vicky', 'minakshi', 'Donald Trump', 'putin', 'Imran khan']"
      ]
     },
     "execution_count": 37,
     "metadata": {},
     "output_type": "execute_result"
    }
   ],
   "source": [
    "l1"
   ]
  },
  {
   "cell_type": "code",
   "execution_count": 38,
   "id": "e2afb7b1-c766-4830-9dbf-970a99177a4d",
   "metadata": {},
   "outputs": [],
   "source": [
    "l1=[11,22,33,44,55,66]"
   ]
  },
  {
   "cell_type": "code",
   "execution_count": 39,
   "id": "23ff0326-993c-43d8-84ad-5a8191adb1a5",
   "metadata": {},
   "outputs": [],
   "source": [
    "l1=[44,55,66,99,77,88]"
   ]
  },
  {
   "cell_type": "code",
   "execution_count": 41,
   "id": "b21cc7bf-71b3-4a8d-9f3f-20b05315b7c3",
   "metadata": {},
   "outputs": [
    {
     "data": {
      "text/plain": [
       "6"
      ]
     },
     "execution_count": 41,
     "metadata": {},
     "output_type": "execute_result"
    }
   ],
   "source": [
    "len(l1)"
   ]
  },
  {
   "cell_type": "code",
   "execution_count": 42,
   "id": "fc191190-d8fb-4525-981b-53f00a7eb189",
   "metadata": {},
   "outputs": [],
   "source": [
    "l1=['saurav','gaurav','lovely','advit']"
   ]
  },
  {
   "cell_type": "code",
   "execution_count": 43,
   "id": "cc1d21be-c4a9-48c0-824f-eb6b05d4d2dc",
   "metadata": {},
   "outputs": [
    {
     "data": {
      "text/plain": [
       "'saurav'"
      ]
     },
     "execution_count": 43,
     "metadata": {},
     "output_type": "execute_result"
    }
   ],
   "source": [
    "l1[0]"
   ]
  },
  {
   "cell_type": "code",
   "execution_count": 44,
   "id": "353a95b2-3cf4-4561-bce7-49cc98be40da",
   "metadata": {},
   "outputs": [
    {
     "data": {
      "text/plain": [
       "'gaurav'"
      ]
     },
     "execution_count": 44,
     "metadata": {},
     "output_type": "execute_result"
    }
   ],
   "source": [
    "l1[1]"
   ]
  },
  {
   "cell_type": "code",
   "execution_count": 45,
   "id": "795f0232-bf88-48a6-8a6d-6b3c4011933e",
   "metadata": {},
   "outputs": [
    {
     "data": {
      "text/plain": [
       "'lovely'"
      ]
     },
     "execution_count": 45,
     "metadata": {},
     "output_type": "execute_result"
    }
   ],
   "source": [
    "l1[2]"
   ]
  },
  {
   "cell_type": "code",
   "execution_count": 46,
   "id": "4fa9983e-485a-4a57-95df-7530d35c2a7c",
   "metadata": {},
   "outputs": [
    {
     "data": {
      "text/plain": [
       "'advit'"
      ]
     },
     "execution_count": 46,
     "metadata": {},
     "output_type": "execute_result"
    }
   ],
   "source": [
    "l1[3]"
   ]
  },
  {
   "cell_type": "code",
   "execution_count": 47,
   "id": "3e696432-ffab-4026-920a-1fddf117ee44",
   "metadata": {},
   "outputs": [],
   "source": [
    "l1[3]='Babu'"
   ]
  },
  {
   "cell_type": "code",
   "execution_count": 48,
   "id": "654bd830-3f17-453e-8f8e-c968e22df785",
   "metadata": {},
   "outputs": [
    {
     "data": {
      "text/plain": [
       "['saurav', 'gaurav', 'lovely', 'Babu']"
      ]
     },
     "execution_count": 48,
     "metadata": {},
     "output_type": "execute_result"
    }
   ],
   "source": [
    "l1"
   ]
  },
  {
   "cell_type": "code",
   "execution_count": 49,
   "id": "bf4377d8-be1c-4db3-97e6-849b0b4c1f70",
   "metadata": {},
   "outputs": [],
   "source": [
    "l1=[11,22,33,66,44,88,99,44]"
   ]
  },
  {
   "cell_type": "code",
   "execution_count": 50,
   "id": "22cc1599-1e34-43c6-ad8b-6e4beeb99510",
   "metadata": {},
   "outputs": [],
   "source": [
    "l1[3]=1607"
   ]
  },
  {
   "cell_type": "code",
   "execution_count": 51,
   "id": "c52130e0-4e0b-4ff7-831b-6ee062fa5fa2",
   "metadata": {},
   "outputs": [
    {
     "data": {
      "text/plain": [
       "[11, 22, 33, 1607, 44, 88, 99, 44]"
      ]
     },
     "execution_count": 51,
     "metadata": {},
     "output_type": "execute_result"
    }
   ],
   "source": [
    "l1"
   ]
  },
  {
   "cell_type": "code",
   "execution_count": 52,
   "id": "4c5aa303-9554-492b-9c13-6e9aa0584d24",
   "metadata": {},
   "outputs": [
    {
     "data": {
      "text/plain": [
       "[11, 22, 33, 1607, 44, 88, 99, 44]"
      ]
     },
     "execution_count": 52,
     "metadata": {},
     "output_type": "execute_result"
    }
   ],
   "source": [
    "l1"
   ]
  },
  {
   "cell_type": "code",
   "execution_count": 53,
   "id": "82e71dcb-775e-47ac-8d5f-3507ee264c33",
   "metadata": {},
   "outputs": [
    {
     "data": {
      "text/plain": [
       "[22, 33, 1607, 44, 88, 99, 44]"
      ]
     },
     "execution_count": 53,
     "metadata": {},
     "output_type": "execute_result"
    }
   ],
   "source": [
    "l1[1:]"
   ]
  },
  {
   "cell_type": "code",
   "execution_count": 54,
   "id": "ba49cc2f-7ef1-4947-8fa9-7e21978e6af1",
   "metadata": {},
   "outputs": [
    {
     "data": {
      "text/plain": [
       "[33, 1607, 44, 88, 99, 44]"
      ]
     },
     "execution_count": 54,
     "metadata": {},
     "output_type": "execute_result"
    }
   ],
   "source": [
    "l1[2:]"
   ]
  },
  {
   "cell_type": "code",
   "execution_count": 55,
   "id": "c0da43d2-4a47-41a7-b10b-5afc36134ae9",
   "metadata": {},
   "outputs": [
    {
     "data": {
      "text/plain": [
       "[22, 33, 1607, 44, 88, 99]"
      ]
     },
     "execution_count": 55,
     "metadata": {},
     "output_type": "execute_result"
    }
   ],
   "source": [
    "l1[1:7]"
   ]
  },
  {
   "cell_type": "code",
   "execution_count": 56,
   "id": "e2faca96-1038-4cd8-999e-55af79aa9938",
   "metadata": {},
   "outputs": [
    {
     "data": {
      "text/plain": [
       "[11, 22, 33]"
      ]
     },
     "execution_count": 56,
     "metadata": {},
     "output_type": "execute_result"
    }
   ],
   "source": [
    "l1[:3]"
   ]
  },
  {
   "cell_type": "code",
   "execution_count": 57,
   "id": "4d7b2226-3671-4e19-bf97-93b02ec02fbd",
   "metadata": {},
   "outputs": [
    {
     "data": {
      "text/plain": [
       "[11, 22, 33, 1607, 44, 88, 99, 44]"
      ]
     },
     "execution_count": 57,
     "metadata": {},
     "output_type": "execute_result"
    }
   ],
   "source": [
    "l1"
   ]
  },
  {
   "cell_type": "code",
   "execution_count": 58,
   "id": "3d56446a-c012-4552-9258-8da411daa729",
   "metadata": {},
   "outputs": [
    {
     "data": {
      "text/plain": [
       "[11, 22, 33, 1607, 44, 88, 99, 44, 6622]"
      ]
     },
     "execution_count": 58,
     "metadata": {},
     "output_type": "execute_result"
    }
   ],
   "source": [
    "l1+[6622]"
   ]
  },
  {
   "cell_type": "code",
   "execution_count": 59,
   "id": "13cf155e-9bb9-415d-8d27-46775551f01e",
   "metadata": {},
   "outputs": [],
   "source": [
    "l1=l1+[5566]"
   ]
  },
  {
   "cell_type": "code",
   "execution_count": 60,
   "id": "5e6f2aa4-c5fd-4d01-ad45-9a3e1a395cd4",
   "metadata": {},
   "outputs": [
    {
     "data": {
      "text/plain": [
       "[11, 22, 33, 1607, 44, 88, 99, 44, 5566]"
      ]
     },
     "execution_count": 60,
     "metadata": {},
     "output_type": "execute_result"
    }
   ],
   "source": [
    "l1"
   ]
  },
  {
   "cell_type": "code",
   "execution_count": 61,
   "id": "98e08b43-95bc-4a58-b4b9-a95666304a4c",
   "metadata": {},
   "outputs": [
    {
     "name": "stdout",
     "output_type": "stream",
     "text": [
      "====================================================================================================\n",
      "[11, 22, 33, 1607, 44, 88, 99, 44, 5566]\n",
      "====================================================================================================\n"
     ]
    }
   ],
   "source": [
    "print('=' * 100)\n",
    "\n",
    "print(l1)\n",
    "\n",
    "print('=' * 100)"
   ]
  },
  {
   "cell_type": "code",
   "execution_count": 62,
   "id": "40578b08-9006-415e-a356-09659f306b1c",
   "metadata": {},
   "outputs": [],
   "source": [
    "marks=[51,56,89,78,89,45,56,12,12,32,45,32,65,45,89,78,45,56,23,12,4,5,23,23,56,]\n"
   ]
  },
  {
   "cell_type": "code",
   "execution_count": 63,
   "id": "468a0133-6abc-479f-b84b-cace28bdcfbb",
   "metadata": {},
   "outputs": [
    {
     "data": {
      "text/plain": [
       "3"
      ]
     },
     "execution_count": 63,
     "metadata": {},
     "output_type": "execute_result"
    }
   ],
   "source": [
    "marks.count(23)"
   ]
  },
  {
   "cell_type": "code",
   "execution_count": 64,
   "id": "bfae9afe-1421-4da9-a525-d1b63a09127a",
   "metadata": {},
   "outputs": [
    {
     "data": {
      "text/plain": [
       "3"
      ]
     },
     "execution_count": 64,
     "metadata": {},
     "output_type": "execute_result"
    }
   ],
   "source": [
    "marks.count(89)"
   ]
  },
  {
   "cell_type": "code",
   "execution_count": 71,
   "id": "b34aaf61-2ae0-44bb-bc4b-6b6e905148a3",
   "metadata": {},
   "outputs": [],
   "source": [
    "lst1=['munmun','lovely']"
   ]
  },
  {
   "cell_type": "code",
   "execution_count": 66,
   "id": "cffc98ea-092b-46b2-968e-2b6cd6b8c309",
   "metadata": {},
   "outputs": [
    {
     "data": {
      "text/plain": [
       "['munmun', 'lovely']"
      ]
     },
     "execution_count": 66,
     "metadata": {},
     "output_type": "execute_result"
    }
   ],
   "source": [
    "lst1"
   ]
  },
  {
   "cell_type": "code",
   "execution_count": 67,
   "id": "e9252d71-b1fa-44ab-a957-db4a074e8a19",
   "metadata": {},
   "outputs": [],
   "source": [
    "lst.append(['amisha','khushi'])"
   ]
  },
  {
   "cell_type": "code",
   "execution_count": 72,
   "id": "88511032-6e8d-4011-8f76-d147c58f53e9",
   "metadata": {},
   "outputs": [
    {
     "data": {
      "text/plain": [
       "['munmun', 'lovely']"
      ]
     },
     "execution_count": 72,
     "metadata": {},
     "output_type": "execute_result"
    }
   ],
   "source": [
    "lst1"
   ]
  },
  {
   "cell_type": "code",
   "execution_count": 73,
   "id": "508129ef-61ac-49e9-8a6b-6e941dad28ce",
   "metadata": {},
   "outputs": [],
   "source": [
    "lst1.extend(['amisha','khusi'])"
   ]
  },
  {
   "cell_type": "code",
   "execution_count": 74,
   "id": "027c4432-be26-4fc5-8cb1-6c59c0b350f9",
   "metadata": {},
   "outputs": [
    {
     "data": {
      "text/plain": [
       "['munmun', 'lovely', 'amisha', 'khusi']"
      ]
     },
     "execution_count": 74,
     "metadata": {},
     "output_type": "execute_result"
    }
   ],
   "source": [
    "lst1"
   ]
  },
  {
   "cell_type": "code",
   "execution_count": 75,
   "id": "595bdb34-f267-4b4d-9490-4e1a94f13713",
   "metadata": {},
   "outputs": [],
   "source": [
    "lst1=['Raj','Saurav','Garima','Riya','Gaurav','Ratnesh','Shailesh']"
   ]
  },
  {
   "cell_type": "code",
   "execution_count": 76,
   "id": "445539c2-b0dc-4509-970a-5dfd554314a1",
   "metadata": {},
   "outputs": [
    {
     "data": {
      "text/plain": [
       "['Raj', 'Saurav', 'Garima', 'Riya', 'Gaurav', 'Ratnesh', 'Shailesh']"
      ]
     },
     "execution_count": 76,
     "metadata": {},
     "output_type": "execute_result"
    }
   ],
   "source": [
    "lst1"
   ]
  },
  {
   "cell_type": "code",
   "execution_count": 77,
   "id": "5269c063-97f7-4eb2-b951-9f8914d229e4",
   "metadata": {},
   "outputs": [],
   "source": [
    "pop_shailesh=lst1.pop()"
   ]
  },
  {
   "cell_type": "code",
   "execution_count": 78,
   "id": "8d438af4-1f48-4732-9537-bb5cc8779f4d",
   "metadata": {},
   "outputs": [
    {
     "data": {
      "text/plain": [
       "'Shailesh'"
      ]
     },
     "execution_count": 78,
     "metadata": {},
     "output_type": "execute_result"
    }
   ],
   "source": [
    "pop_shailesh"
   ]
  },
  {
   "cell_type": "code",
   "execution_count": 79,
   "id": "062aa2b7-fec8-44ee-835d-10b9036cc895",
   "metadata": {},
   "outputs": [
    {
     "data": {
      "text/plain": [
       "['Raj', 'Saurav', 'Garima', 'Riya', 'Gaurav', 'Ratnesh']"
      ]
     },
     "execution_count": 79,
     "metadata": {},
     "output_type": "execute_result"
    }
   ],
   "source": [
    "lst1"
   ]
  },
  {
   "cell_type": "code",
   "execution_count": 80,
   "id": "2a7a4646-f7c3-442f-acc8-a7df630da4ca",
   "metadata": {},
   "outputs": [],
   "source": [
    "pop_garima=lst1.pop(2)"
   ]
  },
  {
   "cell_type": "code",
   "execution_count": 81,
   "id": "9da440f2-42a3-4256-bda0-fe75ee7c5788",
   "metadata": {},
   "outputs": [
    {
     "data": {
      "text/plain": [
       "'Garima'"
      ]
     },
     "execution_count": 81,
     "metadata": {},
     "output_type": "execute_result"
    }
   ],
   "source": [
    "pop_garima"
   ]
  },
  {
   "cell_type": "code",
   "execution_count": 82,
   "id": "963b2502-7c17-415c-8280-3b3b4110f28d",
   "metadata": {},
   "outputs": [
    {
     "data": {
      "text/plain": [
       "['Raj', 'Saurav', 'Riya', 'Gaurav', 'Ratnesh']"
      ]
     },
     "execution_count": 82,
     "metadata": {},
     "output_type": "execute_result"
    }
   ],
   "source": [
    "lst1"
   ]
  },
  {
   "cell_type": "code",
   "execution_count": 83,
   "id": "7cc4a6a9-6991-4fc4-8b0e-8f838a549193",
   "metadata": {},
   "outputs": [],
   "source": [
    "lst1=[12,33,66,55,44,77,88,99,11,22,33,44,55,66,77,88]"
   ]
  },
  {
   "cell_type": "code",
   "execution_count": 84,
   "id": "143be945-46f3-4d81-b213-9ad984f30e80",
   "metadata": {},
   "outputs": [],
   "source": [
    "lst1.remove(55)"
   ]
  },
  {
   "cell_type": "code",
   "execution_count": 85,
   "id": "71f76345-cb1f-4c60-8871-d420752e48d8",
   "metadata": {},
   "outputs": [
    {
     "data": {
      "text/plain": [
       "[12, 33, 66, 44, 77, 88, 99, 11, 22, 33, 44, 55, 66, 77, 88]"
      ]
     },
     "execution_count": 85,
     "metadata": {},
     "output_type": "execute_result"
    }
   ],
   "source": [
    "lst1"
   ]
  },
  {
   "cell_type": "code",
   "execution_count": 86,
   "id": "3ee97430-0137-431e-beb7-3129e522adcb",
   "metadata": {},
   "outputs": [],
   "source": [
    "lst1=[11,22,33,44,55,66,44,55,66,77,88,99]"
   ]
  },
  {
   "cell_type": "code",
   "execution_count": 87,
   "id": "be2c0967-0592-4238-8b0b-fc33f2285807",
   "metadata": {},
   "outputs": [],
   "source": [
    "lst1.reverse()"
   ]
  },
  {
   "cell_type": "code",
   "execution_count": 88,
   "id": "4f84059e-f1ca-4b92-b280-d8aa11000570",
   "metadata": {},
   "outputs": [
    {
     "data": {
      "text/plain": [
       "[99, 88, 77, 66, 55, 44, 66, 55, 44, 33, 22, 11]"
      ]
     },
     "execution_count": 88,
     "metadata": {},
     "output_type": "execute_result"
    }
   ],
   "source": [
    "lst1"
   ]
  },
  {
   "cell_type": "code",
   "execution_count": 89,
   "id": "bca823e0-17c7-4ddb-bcef-a4e03f9b730c",
   "metadata": {},
   "outputs": [
    {
     "data": {
      "text/plain": [
       "[99, 88, 77, 66, 55, 44, 66, 55, 44, 33, 22, 11]"
      ]
     },
     "execution_count": 89,
     "metadata": {},
     "output_type": "execute_result"
    }
   ],
   "source": [
    "lst1"
   ]
  },
  {
   "cell_type": "code",
   "execution_count": 90,
   "id": "8f0abd05-48f7-4307-9f2f-b8564850c1da",
   "metadata": {},
   "outputs": [],
   "source": [
    "lst1.sort()"
   ]
  },
  {
   "cell_type": "code",
   "execution_count": 91,
   "id": "d2d24d66-cd2c-4638-b802-2f0c37594441",
   "metadata": {},
   "outputs": [
    {
     "data": {
      "text/plain": [
       "[11, 22, 33, 44, 44, 55, 55, 66, 66, 77, 88, 99]"
      ]
     },
     "execution_count": 91,
     "metadata": {},
     "output_type": "execute_result"
    }
   ],
   "source": [
    "lst1"
   ]
  },
  {
   "cell_type": "code",
   "execution_count": 92,
   "id": "091132a7-f672-42bb-9b99-6fff6166a103",
   "metadata": {},
   "outputs": [],
   "source": [
    "lst1.sort(reverse=True)"
   ]
  },
  {
   "cell_type": "code",
   "execution_count": 93,
   "id": "3fb1157c-b5f4-44a7-b923-92b1a10824b2",
   "metadata": {},
   "outputs": [
    {
     "data": {
      "text/plain": [
       "[99, 88, 77, 66, 66, 55, 55, 44, 44, 33, 22, 11]"
      ]
     },
     "execution_count": 93,
     "metadata": {},
     "output_type": "execute_result"
    }
   ],
   "source": [
    "lst1"
   ]
  },
  {
   "cell_type": "code",
   "execution_count": null,
   "id": "ce0c256e-8a89-4ddb-a884-b0f63652aaf2",
   "metadata": {},
   "outputs": [],
   "source": []
  }
 ],
 "metadata": {
  "kernelspec": {
   "display_name": "Python 3 (ipykernel)",
   "language": "python",
   "name": "python3"
  },
  "language_info": {
   "codemirror_mode": {
    "name": "ipython",
    "version": 3
   },
   "file_extension": ".py",
   "mimetype": "text/x-python",
   "name": "python",
   "nbconvert_exporter": "python",
   "pygments_lexer": "ipython3",
   "version": "3.12.7"
  }
 },
 "nbformat": 4,
 "nbformat_minor": 5
}
